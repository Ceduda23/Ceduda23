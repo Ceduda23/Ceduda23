{
  "nbformat": 4,
  "nbformat_minor": 0,
  "metadata": {
    "colab": {
      "provenance": [],
      "include_colab_link": true
    },
    "kernelspec": {
      "name": "python3",
      "display_name": "Python 3"
    },
    "language_info": {
      "name": "python"
    }
  },
  "cells": [
    {
      "cell_type": "markdown",
      "metadata": {
        "id": "view-in-github",
        "colab_type": "text"
      },
      "source": [
        "<a href=\"https://colab.research.google.com/github/Ceduda23/Ceduda23/blob/main/RegressaoLinearBike.ipynb\" target=\"_parent\"><img src=\"https://colab.research.google.com/assets/colab-badge.svg\" alt=\"Open In Colab\"/></a>"
      ]
    },
    {
      "cell_type": "code",
      "metadata": {
        "id": "3DKhDw9rTLS2"
      },
      "source": [
        "import pandas as pd\n",
        "from matplotlib import pyplot as plt\n",
        "from keras.models import Sequential\n",
        "from keras.layers import Dense\n",
        "from sklearn.preprocessing import MinMaxScaler\n",
        "from sklearn.model_selection import train_test_split\n",
        "from sklearn.metrics import r2_score"
      ],
      "execution_count": null,
      "outputs": []
    },
    {
      "cell_type": "code",
      "metadata": {
        "id": "_0zy7DwJUKgL"
      },
      "source": [
        "dados = pd.read_csv('/content/Bike.csv', sep=';')\n",
        "dados"
      ],
      "execution_count": null,
      "outputs": []
    },
    {
      "cell_type": "code",
      "metadata": {
        "id": "rnC1q4FZW7-2"
      },
      "source": [
        "x=dados.values[:,0:14] # caracteristicas das casas\n",
        "y = dados.values[:,14] #saída - valores das casas"
      ],
      "execution_count": null,
      "outputs": []
    },
    {
      "cell_type": "code",
      "source": [
        "x"
      ],
      "metadata": {
        "id": "7qmpEnML7oAN"
      },
      "execution_count": null,
      "outputs": []
    },
    {
      "cell_type": "code",
      "metadata": {
        "id": "teCDfL70d5xc"
      },
      "source": [
        "#normalizar as caracteristicas das casa\n",
        "normal = MinMaxScaler(feature_range=(0,1))\n",
        "x=normal.fit_transform(x)"
      ],
      "execution_count": null,
      "outputs": []
    },
    {
      "cell_type": "code",
      "metadata": {
        "id": "lfB_3ODAXfhL"
      },
      "source": [
        "x_treino, x_teste, y_treino, y_teste = train_test_split(x,y,test_size=0.20)\n",
        "# separando os arquivos de treino e de teste\n"
      ],
      "execution_count": null,
      "outputs": []
    },
    {
      "cell_type": "code",
      "metadata": {
        "id": "MYuRYlGIX7eI"
      },
      "source": [
        "# modelo de rede neural\n",
        "model = Sequential()\n",
        "model.add(Dense(300, activation='tanh', kernel_initializer='he_normal', input_shape=(14,)))\n",
        "model.add(Dense(200,activation='relu'))\n",
        "model.add(Dense(200,activation='tanh'))\n",
        "model.add(Dense(200,activation='relu'))\n",
        "model.add(Dense(200,activation='tanh'))\n",
        "model.add(Dense(1,activation='linear')) # saida da rede - regressão ->linear porque o valor não pode mudar, é o valor da casa"
      ],
      "execution_count": null,
      "outputs": []
    },
    {
      "cell_type": "markdown",
      "source": [],
      "metadata": {
        "id": "GkEYY8btPcNg"
      }
    },
    {
      "cell_type": "code",
      "metadata": {
        "id": "MzQpUK3WaCKB"
      },
      "source": [
        "model.compile(optimizer='adam',loss='mse' )"
      ],
      "execution_count": null,
      "outputs": []
    },
    {
      "cell_type": "code",
      "metadata": {
        "id": "iuixwcd5aiWg"
      },
      "source": [
        "history = model.fit(x_treino,y_treino,validation_data=(x_teste,y_teste), epochs=20,batch_size=32,verbose=1)"
      ],
      "execution_count": null,
      "outputs": []
    },
    {
      "cell_type": "code",
      "source": [
        "dadosT = pd.read_csv('/content/BikeTeste.csv', sep=';')\n",
        "dadosT"
      ],
      "metadata": {
        "id": "fQmYogyexTvy"
      },
      "execution_count": null,
      "outputs": []
    },
    {
      "cell_type": "code",
      "source": [
        "#normalizar as caracteristicas das casa\n",
        "normal = MinMaxScaler(feature_range=(0,1))\n",
        "dadosT=normal.fit_transform(dadosT)"
      ],
      "metadata": {
        "id": "y6lCGPif4R7_"
      },
      "execution_count": null,
      "outputs": []
    },
    {
      "cell_type": "code",
      "source": [
        "Resposta = model.predict(dadosT)"
      ],
      "metadata": {
        "id": "O-DCJeSIkTKG",
        "colab": {
          "base_uri": "https://localhost:8080/"
        },
        "outputId": "f634b971-22ed-4aaf-9695-0625aae45141"
      },
      "execution_count": null,
      "outputs": [
        {
          "output_type": "stream",
          "name": "stdout",
          "text": [
            "1/1 [==============================] - 0s 65ms/step\n"
          ]
        }
      ]
    },
    {
      "cell_type": "code",
      "source": [
        "Resposta"
      ],
      "metadata": {
        "id": "XurWUuhOkx0R",
        "colab": {
          "base_uri": "https://localhost:8080/"
        },
        "outputId": "2bfda47e-b270-430e-bede-2ce74a58b96e"
      },
      "execution_count": null,
      "outputs": [
        {
          "output_type": "execute_result",
          "data": {
            "text/plain": [
              "array([[93.42031],\n",
              "       [93.42031],\n",
              "       [93.42031],\n",
              "       [93.42031],\n",
              "       [93.42031]], dtype=float32)"
            ]
          },
          "metadata": {},
          "execution_count": 107
        }
      ]
    },
    {
      "cell_type": "code",
      "source": [
        "RespostadoTeste = [538000,180000,604000,510000]"
      ],
      "metadata": {
        "id": "xuWKpHpz2vnR"
      },
      "execution_count": null,
      "outputs": []
    },
    {
      "cell_type": "code",
      "source": [
        "r2 = r2_score(Resposta, RespostadoTeste)\n",
        "print('r2 score do modelo', r2)"
      ],
      "metadata": {
        "colab": {
          "base_uri": "https://localhost:8080/"
        },
        "id": "Al1XLv-k2Xb6",
        "outputId": "3d3a4222-e62e-4bb9-df17-73bdb7b612ed"
      },
      "execution_count": null,
      "outputs": [
        {
          "output_type": "stream",
          "name": "stdout",
          "text": [
            "r2 score do modelo 0.0\n"
          ]
        }
      ]
    }
  ]
}